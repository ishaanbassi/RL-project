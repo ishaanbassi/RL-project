{
 "cells": [
  {
   "cell_type": "code",
   "execution_count": 2,
   "metadata": {},
   "outputs": [],
   "source": [
    "import gym\n",
    "import torch\n",
    "import random\n",
    "import numpy as np\n",
    "import torch\n",
    "from PIL import Image\n",
    "import torch\n",
    "import torch.nn as nn\n",
    "from collections import namedtuple\n",
    "from collections import deque\n",
    "import torch.nn.functional as F\n",
    "from tqdm import tqdm_notebook as tqdm\n",
    "from matplotlib.pyplot import imshow\n",
    "from PIL import Image\n",
    "from wrappers import make_atari, wrap_deepmind, wrap_pytorch\n",
    "import queue\n",
    "from torch import optim\n",
    "import matplotlib.pyplot as plt"
   ]
  },
  {
   "cell_type": "markdown",
   "metadata": {},
   "source": [
    "# Model"
   ]
  },
  {
   "cell_type": "code",
   "execution_count": 89,
   "metadata": {},
   "outputs": [],
   "source": [
    "class QNet(torch.nn.Module):\n",
    "    def __init__(self,obs_shape,act_shape,atoms):\n",
    "        super(QNet, self).__init__()\n",
    "        self.atoms = atoms\n",
    "        self.act_shape = act_shape\n",
    "        self.conv1 = nn.Conv2d(1, 32, kernel_size=8, stride=4)\n",
    "        self.conv2 = nn.Conv2d(32, 64, kernel_size=4, stride=2)\n",
    "        self.conv3 = nn.Conv2d(64, 64, kernel_size=3, stride=1)\n",
    "        self.relu = nn.ReLU()\n",
    "        #Linear layers for dueling\n",
    "        self.fc1 = nn.Linear(7*7*64,512)\n",
    "        self.fc2 = nn.Linear(512,atoms)\n",
    "        self.fc3 = nn.Linear(7*7*64,512)\n",
    "        self.fc4 = nn.Linear(512,act_shape*atoms)\n",
    "        self.softmax = nn.Softmax(dim=1)\n",
    "    def forward(self, x):\n",
    "        #Conv\n",
    "        x = self.conv1(x)\n",
    "        x = self.relu(x)\n",
    "        x = self.conv2(x)\n",
    "        x = self.relu(x)\n",
    "        x = self.conv3(x)\n",
    "        x = self.relu(x)\n",
    "        x = x.view(x.shape[0],-1)\n",
    "        \n",
    "        #Fc\n",
    "        x1 = x\n",
    "        x = self.fc1(x)\n",
    "        x = self.relu(x)\n",
    "        v = self.fc2(x)\n",
    "        \n",
    "        x1 = self.fc3(x1)\n",
    "        x1 = self.relu(x1)\n",
    "        adv = self.fc4(x1)\n",
    "        \n",
    "        #Reshaping value and advantage functions to add probabilities of each atom for each action\n",
    "        value = v.view(v.shape[0],1,self.atoms)\n",
    "        adv = adv.view(adv.shape[0],self.act_shape,self.atoms)\n",
    "        \n",
    "        q_s_a = value + adv - adv.mean(1,keepdim=True)\n",
    "        \n",
    "        #probability of each atom for all actions\n",
    "        q_s_a = self.softmax(q_s_a)\n",
    "        \n",
    "        return q_s_a"
   ]
  },
  {
   "cell_type": "code",
   "execution_count": 90,
   "metadata": {},
   "outputs": [],
   "source": [
    "def eps_greedy(epsilon,state,net,atoms):\n",
    "    if(np.random.random()<epsilon):\n",
    "        action = np.random.randint(ACT_SHAPE)\n",
    "    else:\n",
    "        #Finding the expected value of each action (sum(pi*zi))\n",
    "        qvalues = net(state)\n",
    "        expected_values = torch.matmul(qvalues,atoms)\n",
    "        action = torch.argmax(expected_values).item()\n",
    "    return action    "
   ]
  },
  {
   "cell_type": "code",
   "execution_count": 91,
   "metadata": {},
   "outputs": [],
   "source": [
    "class ReplayBuffer(object):\n",
    "    def __init__(self,maxsize):\n",
    "        self.q = deque(maxlen = maxsize)\n",
    "        self.maxsize = maxsize\n",
    "    def add(self,x):\n",
    "        self.q.append(x)\n",
    "        if(len(self.q)==self.maxsize):\n",
    "            self.q.popleft()\n",
    "    def getSize(self):\n",
    "        return len(self.q)\n",
    "    def sample(self,size):\n",
    "        batch = random.sample(list(self.q),size)\n",
    "        state,action,reward,next_state,done = map(list, zip(*batch))\n",
    "        return state,action,reward,next_state,done"
   ]
  },
  {
   "cell_type": "markdown",
   "metadata": {},
   "source": [
    "# Loss function"
   ]
  },
  {
   "cell_type": "code",
   "execution_count": 294,
   "metadata": {},
   "outputs": [],
   "source": [
    "def compute_loss(size,atoms):\n",
    "    current_state,action,reward,next_state,done = buffer.sample(size)\n",
    "    current_state = torch.stack(current_state)\n",
    "    current_state = current_state.squeeze(1)\n",
    "    next_state = torch.stack(next_state)\n",
    "    next_state = next_state.squeeze(1)\n",
    "    done = np.array(done)\n",
    "    done = done.astype(int)\n",
    "    reward = torch.Tensor(reward).cuda()\n",
    "    action = torch.as_tensor(action).cuda()\n",
    "    done = torch.Tensor(done).cuda()\n",
    "    \n",
    "    #qvalues -> (batch,actions,atoms)\n",
    "    # z(xt)\n",
    "    dist_current = net(current_state)\n",
    "    \n",
    "    # z(xt+1)\n",
    "    dist_next = net(next_state)\n",
    "    target_net.eval()\n",
    "    \n",
    "    # z'(xt+1)\n",
    "    dist_target = target_net(next_state)\n",
    "    \n",
    "    #Selecting optimal action a*\n",
    "    \n",
    "    qvalues_next = torch.matmul(dist_next,atoms)\n",
    "    optimal_action = qvalues_next.max(1)[1]\n",
    "    \n",
    "    #Distribution of target with optimal action z(xt+1,a*)\n",
    "    dist_target_optimal = dist_target.gather(1,optimal_action.view(-1,1).unsqueeze(2).repeat(1,1,N_ATOMS))\n",
    "    dist_target_optimal = dist_target_optimal.squeeze(1)\n",
    "    #Finding target distribution values (Tzj = r + gamma*Z(x,a*)) (not aligned)\n",
    "    Tz = reward.unsqueeze(1).repeat(1,N_ATOMS) + GAMMA*atoms.unsqueeze(0).repeat(size,1)\n",
    "    \n",
    "    #Clipping the values\n",
    "    Tz = torch.clamp(Tz,min=VMIN,max=VMAX)\n",
    "    \n",
    "    #Aligning the values\n",
    "    \n",
    "    deltaz = (VMAX-VMIN)/N_ATOMS\n",
    "    indices = (Tz - VMIN)/deltaz\n",
    "    lower = indices.floor()\n",
    "    upper = indices.ceil()\n",
    "    \n",
    "    print(indices.shape)\n",
    "    #Finding target probabilities\n",
    "    target_distribution = torch.zeros(size,N_ATOMS).cuda()\n",
    "    for col in range(N_ATOMS):\n",
    "        l = lower[:,col]\n",
    "        u = upper[:,col]\n",
    "        target_distribution[:,l] = target_distribution[:,l] + dist_target_optimal[:,col]*(indices[col]-l)\n",
    "        target_distribution[:,u] = target_distribution[:,u] + dist_target_optimal[:,col]*(u-indices[col])\n",
    "    print(dist_target_optimal.shape)\n",
    "     \n",
    "    \n",
    "    \n",
    "#     #Q(s,a)\n",
    "#     q_a = qvalues.gather(1, action.unsqueeze(1)).squeeze(1)\n",
    "    \n",
    "#     #Selecting action for target network\n",
    "#     selected = qvalues_next.max(1)[1]\n",
    "#     #Q'(s',argmax Q(s',a))\n",
    "#     q_a_target = qvalues_target.gather(1,selected.unsqueeze(1)).squeeze(1)\n",
    "    \n",
    "#     #Computing target value\n",
    "#     target = reward + GAMMA * q_a_target * (1 - done)\n",
    "#     L = (target - q_a).pow(2).mean()\n",
    "#     optimizer.zero_grad()\n",
    "#     L.backward()\n",
    "#     optimizer.step()\n",
    "    return L"
   ]
  },
  {
   "cell_type": "code",
   "execution_count": 295,
   "metadata": {},
   "outputs": [],
   "source": [
    "def update_target():\n",
    "    target_net.load_state_dict(net.state_dict())"
   ]
  },
  {
   "cell_type": "code",
   "execution_count": 296,
   "metadata": {},
   "outputs": [],
   "source": [
    "def epsilon_decay(ep):\n",
    "    e = .01 + .99*np.exp(-ep/30000)\n",
    "    return e"
   ]
  },
  {
   "cell_type": "code",
   "execution_count": 297,
   "metadata": {},
   "outputs": [],
   "source": [
    "def addreward(id,item,filename):\n",
    "    f=open(filename,'a+')\n",
    "    f.write(str(id)+' '+str(item)+' '+'\\n')\n",
    "    f.close()"
   ]
  },
  {
   "cell_type": "code",
   "execution_count": 298,
   "metadata": {},
   "outputs": [],
   "source": [
    "def addloss(id,loss,filename):\n",
    "    f=open(filename,'a+')\n",
    "    f.write(str(id)+' '+str(loss.item())+' '+'\\n')\n",
    "    f.close()"
   ]
  },
  {
   "cell_type": "markdown",
   "metadata": {},
   "source": [
    "# Training"
   ]
  },
  {
   "cell_type": "code",
   "execution_count": 299,
   "metadata": {},
   "outputs": [
    {
     "name": "stdout",
     "output_type": "stream",
     "text": [
      "Box(1, 84, 84)\n",
      "Discrete(18)\n"
     ]
    }
   ],
   "source": [
    "# env = gym.make('PongNoFrameskip-v4')\n",
    "# env    = make_atari('PongNoFrameskip-v4')\n",
    "env    = make_atari('BankHeist-v0')\n",
    "env    = wrap_deepmind(env)\n",
    "env    = wrap_pytorch(env)\n",
    "\n",
    "print(env.observation_space)\n",
    "print(env.action_space)\n"
   ]
  },
  {
   "cell_type": "code",
   "execution_count": 300,
   "metadata": {},
   "outputs": [],
   "source": [
    "ITERATIONS = 1000000\n",
    "epsilon = .99\n",
    "OBS_SHAPE = env.observation_space.shape\n",
    "ACT_SHAPE = env.action_space.n\n",
    "REPLAY_SAMPLE = 5000\n",
    "BATCH_SIZE = 32\n",
    "GAMMA = .99\n",
    "T_upd = 1000\n",
    "N_ATOMS = 51\n",
    "VMAX = 10\n",
    "VMIN = -10\n",
    "atoms = torch.linspace(VMIN,VMAX,N_ATOMS).cuda()"
   ]
  },
  {
   "cell_type": "code",
   "execution_count": 301,
   "metadata": {},
   "outputs": [],
   "source": [
    "net = QNet(env.observation_space.shape,env.action_space.n,N_ATOMS)\n",
    "net = net.cuda()\n",
    "target_net = QNet(env.observation_space.shape,env.action_space.n,N_ATOMS)\n",
    "target_net = target_net.cuda()\n",
    "# update_target()\n",
    "optimizer = optim.Adam(net.parameters(), lr=0.00001)"
   ]
  },
  {
   "cell_type": "code",
   "execution_count": 302,
   "metadata": {},
   "outputs": [],
   "source": [
    "# net.load_state_dict(torch.load('dqn-model.pth'))\n",
    "# target_net.load_state_dict(torch.load('dqn-model-target.pth'))\n",
    "# optimizer = optim.Adam(net.parameters(), lr=0.00001)\n",
    "update_target()"
   ]
  },
  {
   "cell_type": "code",
   "execution_count": 303,
   "metadata": {
    "scrolled": true
   },
   "outputs": [
    {
     "data": {
      "application/vnd.jupyter.widget-view+json": {
       "model_id": "b4d90700de03491baec3a004b588cd76",
       "version_major": 2,
       "version_minor": 0
      },
      "text/plain": [
       "HBox(children=(IntProgress(value=0, max=1000000), HTML(value='')))"
      ]
     },
     "metadata": {},
     "output_type": "display_data"
    },
    {
     "name": "stdout",
     "output_type": "stream",
     "text": [
      "torch.Size([32, 51])\n",
      "\n"
     ]
    },
    {
     "ename": "RuntimeError",
     "evalue": "tensors used as indices must be long or byte tensors",
     "output_type": "error",
     "traceback": [
      "\u001b[0;31m---------------------------------------------------------------------------\u001b[0m",
      "\u001b[0;31mRuntimeError\u001b[0m                              Traceback (most recent call last)",
      "\u001b[0;32m<ipython-input-303-5dbc07849a90>\u001b[0m in \u001b[0;36m<module>\u001b[0;34m\u001b[0m\n\u001b[1;32m     19\u001b[0m     \u001b[0mstate\u001b[0m\u001b[0;34m=\u001b[0m\u001b[0mnext_state\u001b[0m\u001b[0;34m\u001b[0m\u001b[0;34m\u001b[0m\u001b[0m\n\u001b[1;32m     20\u001b[0m     \u001b[0;32mif\u001b[0m\u001b[0;34m(\u001b[0m\u001b[0mbuffer\u001b[0m\u001b[0;34m.\u001b[0m\u001b[0mgetSize\u001b[0m\u001b[0;34m(\u001b[0m\u001b[0;34m)\u001b[0m\u001b[0;34m>\u001b[0m\u001b[0mREPLAY_SAMPLE\u001b[0m\u001b[0;34m)\u001b[0m\u001b[0;34m:\u001b[0m\u001b[0;34m\u001b[0m\u001b[0;34m\u001b[0m\u001b[0m\n\u001b[0;32m---> 21\u001b[0;31m         \u001b[0mloss\u001b[0m \u001b[0;34m=\u001b[0m \u001b[0mcompute_loss\u001b[0m\u001b[0;34m(\u001b[0m\u001b[0mBATCH_SIZE\u001b[0m\u001b[0;34m,\u001b[0m\u001b[0matoms\u001b[0m\u001b[0;34m)\u001b[0m\u001b[0;34m\u001b[0m\u001b[0;34m\u001b[0m\u001b[0m\n\u001b[0m\u001b[1;32m     22\u001b[0m \u001b[0;31m#         losses.append(loss)\u001b[0m\u001b[0;34m\u001b[0m\u001b[0;34m\u001b[0m\u001b[0;34m\u001b[0m\u001b[0m\n\u001b[1;32m     23\u001b[0m \u001b[0;31m#         if(i%500==0):\u001b[0m\u001b[0;34m\u001b[0m\u001b[0;34m\u001b[0m\u001b[0;34m\u001b[0m\u001b[0m\n",
      "\u001b[0;32m<ipython-input-294-3e329d1a4554>\u001b[0m in \u001b[0;36mcompute_loss\u001b[0;34m(size, atoms)\u001b[0m\n\u001b[1;32m     49\u001b[0m         \u001b[0ml\u001b[0m \u001b[0;34m=\u001b[0m \u001b[0mlower\u001b[0m\u001b[0;34m[\u001b[0m\u001b[0;34m:\u001b[0m\u001b[0;34m,\u001b[0m\u001b[0mcol\u001b[0m\u001b[0;34m]\u001b[0m\u001b[0;34m\u001b[0m\u001b[0;34m\u001b[0m\u001b[0m\n\u001b[1;32m     50\u001b[0m         \u001b[0mu\u001b[0m \u001b[0;34m=\u001b[0m \u001b[0mupper\u001b[0m\u001b[0;34m[\u001b[0m\u001b[0;34m:\u001b[0m\u001b[0;34m,\u001b[0m\u001b[0mcol\u001b[0m\u001b[0;34m]\u001b[0m\u001b[0;34m\u001b[0m\u001b[0;34m\u001b[0m\u001b[0m\n\u001b[0;32m---> 51\u001b[0;31m         \u001b[0mtarget_distribution\u001b[0m\u001b[0;34m[\u001b[0m\u001b[0;34m:\u001b[0m\u001b[0;34m,\u001b[0m\u001b[0ml\u001b[0m\u001b[0;34m]\u001b[0m \u001b[0;34m=\u001b[0m \u001b[0mtarget_distribution\u001b[0m\u001b[0;34m[\u001b[0m\u001b[0;34m:\u001b[0m\u001b[0;34m,\u001b[0m\u001b[0ml\u001b[0m\u001b[0;34m]\u001b[0m \u001b[0;34m+\u001b[0m \u001b[0mdist_target_optimal\u001b[0m\u001b[0;34m[\u001b[0m\u001b[0;34m:\u001b[0m\u001b[0;34m,\u001b[0m\u001b[0mcol\u001b[0m\u001b[0;34m]\u001b[0m\u001b[0;34m*\u001b[0m\u001b[0;34m(\u001b[0m\u001b[0mindices\u001b[0m\u001b[0;34m[\u001b[0m\u001b[0mcol\u001b[0m\u001b[0;34m]\u001b[0m\u001b[0;34m-\u001b[0m\u001b[0ml\u001b[0m\u001b[0;34m)\u001b[0m\u001b[0;34m\u001b[0m\u001b[0;34m\u001b[0m\u001b[0m\n\u001b[0m\u001b[1;32m     52\u001b[0m         \u001b[0mtarget_distribution\u001b[0m\u001b[0;34m[\u001b[0m\u001b[0;34m:\u001b[0m\u001b[0;34m,\u001b[0m\u001b[0mu\u001b[0m\u001b[0;34m]\u001b[0m \u001b[0;34m=\u001b[0m \u001b[0mtarget_distribution\u001b[0m\u001b[0;34m[\u001b[0m\u001b[0;34m:\u001b[0m\u001b[0;34m,\u001b[0m\u001b[0mu\u001b[0m\u001b[0;34m]\u001b[0m \u001b[0;34m+\u001b[0m \u001b[0mdist_target_optimal\u001b[0m\u001b[0;34m[\u001b[0m\u001b[0;34m:\u001b[0m\u001b[0;34m,\u001b[0m\u001b[0mcol\u001b[0m\u001b[0;34m]\u001b[0m\u001b[0;34m*\u001b[0m\u001b[0;34m(\u001b[0m\u001b[0mu\u001b[0m\u001b[0;34m-\u001b[0m\u001b[0mindices\u001b[0m\u001b[0;34m[\u001b[0m\u001b[0mcol\u001b[0m\u001b[0;34m]\u001b[0m\u001b[0;34m)\u001b[0m\u001b[0;34m\u001b[0m\u001b[0;34m\u001b[0m\u001b[0m\n\u001b[1;32m     53\u001b[0m     \u001b[0mprint\u001b[0m\u001b[0;34m(\u001b[0m\u001b[0mdist_target_optimal\u001b[0m\u001b[0;34m.\u001b[0m\u001b[0mshape\u001b[0m\u001b[0;34m)\u001b[0m\u001b[0;34m\u001b[0m\u001b[0;34m\u001b[0m\u001b[0m\n",
      "\u001b[0;31mRuntimeError\u001b[0m: tensors used as indices must be long or byte tensors"
     ]
    }
   ],
   "source": [
    "buffer = ReplayBuffer(10000)\n",
    "\n",
    "episode_reward = 0\n",
    "state = env.reset()\n",
    "state = torch.Tensor(state).cuda()\n",
    "state = state.unsqueeze(0)\n",
    "count = 0\n",
    "lossfile = './dueling-logs/losses.txt'\n",
    "rewardsfile = './dueling-logs/rewards.txt'\n",
    "losses = []\n",
    "rewards = [] \n",
    "for i in tqdm(range(ITERATIONS)):\n",
    "    epsilon = epsilon_decay(i)\n",
    "    action = eps_greedy(epsilon,state,net,atoms)\n",
    "    next_state, reward, done, info = env.step(action)\n",
    "    next_state = torch.Tensor(next_state).cuda().unsqueeze(0)\n",
    "    buffer.add((state,action,reward,next_state,done))\n",
    "    episode_reward+=reward\n",
    "    state=next_state\n",
    "    if(buffer.getSize()>REPLAY_SAMPLE):\n",
    "        loss = compute_loss(BATCH_SIZE,atoms)\n",
    "#         losses.append(loss)\n",
    "#         if(i%500==0):\n",
    "#             addloss(i,loss,lossfile)\n",
    "    if done:\n",
    "        count+=1\n",
    "        rewards.append(episode_reward)\n",
    "#         if(count%5==0):\n",
    "#             addreward(count,episode_reward,rewardsfile)\n",
    "#             print(episode_reward)\n",
    "        episode_reward = 0 \n",
    "        state = env.reset()\n",
    "        state = torch.Tensor(state).cuda()\n",
    "        state = state.unsqueeze(0)\n",
    "    if(i%T_upd==0):\n",
    "#         torch.save(net.state_dict(),'./dueling-logs/dqn-model.pth')\n",
    "#         torch.save(target_net.state_dict(),'./dueling-logs/dqn-model-target.pth')\n",
    "        update_target()\n"
   ]
  },
  {
   "cell_type": "code",
   "execution_count": null,
   "metadata": {},
   "outputs": [],
   "source": []
  }
 ],
 "metadata": {
  "kernelspec": {
   "display_name": "Python 3",
   "language": "python",
   "name": "python3"
  },
  "language_info": {
   "codemirror_mode": {
    "name": "ipython",
    "version": 3
   },
   "file_extension": ".py",
   "mimetype": "text/x-python",
   "name": "python",
   "nbconvert_exporter": "python",
   "pygments_lexer": "ipython3",
   "version": "3.6.8"
  }
 },
 "nbformat": 4,
 "nbformat_minor": 2
}
