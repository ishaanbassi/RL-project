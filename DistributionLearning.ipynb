{
 "cells": [
  {
   "cell_type": "code",
   "execution_count": 1,
   "metadata": {},
   "outputs": [],
   "source": [
    "import gym\n",
    "import torch\n",
    "import random\n",
    "import numpy as np\n",
    "import torch\n",
    "from PIL import Image\n",
    "import torch\n",
    "import torch.nn as nn\n",
    "from collections import namedtuple\n",
    "from collections import deque\n",
    "import torch.nn.functional as F\n",
    "from tqdm import tqdm_notebook as tqdm\n",
    "from matplotlib.pyplot import imshow\n",
    "from PIL import Image\n",
    "from wrappers import make_atari, wrap_deepmind, wrap_pytorch\n",
    "import queue\n",
    "from torch import optim\n",
    "import matplotlib.pyplot as plt"
   ]
  },
  {
   "cell_type": "markdown",
   "metadata": {},
   "source": [
    "# Model"
   ]
  },
  {
   "cell_type": "code",
   "execution_count": 2,
   "metadata": {},
   "outputs": [],
   "source": [
    "class QNet(torch.nn.Module):\n",
    "    def __init__(self,obs_shape,act_shape,atoms):\n",
    "        super(QNet, self).__init__()\n",
    "        self.atoms = atoms\n",
    "        self.act_shape = act_shape\n",
    "        self.conv1 = nn.Conv2d(4, 32, kernel_size=8, stride=4)\n",
    "        self.conv2 = nn.Conv2d(32, 64, kernel_size=4, stride=2)\n",
    "        self.conv3 = nn.Conv2d(64, 64, kernel_size=3, stride=1)\n",
    "        self.relu = nn.ReLU()\n",
    "        #Linear layers for dueling\n",
    "        self.fc1 = nn.Linear(7*7*64,512)\n",
    "        self.fc2 = nn.Linear(512,atoms)\n",
    "        self.fc3 = nn.Linear(7*7*64,512)\n",
    "        self.fc4 = nn.Linear(512,act_shape*atoms)\n",
    "        self.softmax = nn.Softmax(dim=2)\n",
    "    def forward(self, x):\n",
    "        x=x/255\n",
    "        #Conv\n",
    "        x = self.conv1(x)\n",
    "        x = self.relu(x)\n",
    "        x = self.conv2(x)\n",
    "        x = self.relu(x)\n",
    "        x = self.conv3(x)\n",
    "        x = self.relu(x)\n",
    "        x = x.view(x.shape[0],-1)\n",
    "        \n",
    "        #Fc\n",
    "        x1 = x\n",
    "        x = self.fc1(x)\n",
    "        x = self.relu(x)\n",
    "        v = self.fc2(x)\n",
    "        \n",
    "        x1 = self.fc3(x1)\n",
    "        x1 = self.relu(x1)\n",
    "        adv = self.fc4(x1)\n",
    "        \n",
    "        #Reshaping value and advantage functions to add probabilities of each atom for each action\n",
    "        value = v.view(v.shape[0],1,self.atoms)\n",
    "        adv = adv.view(adv.shape[0],self.act_shape,self.atoms)\n",
    "        \n",
    "        q_s_a = value + adv - adv.mean(1,keepdim=True)\n",
    "        \n",
    "        #probability of each atom for all actions\n",
    "        q_s_a = self.softmax(q_s_a)\n",
    "        \n",
    "        return q_s_a"
   ]
  },
  {
   "cell_type": "code",
   "execution_count": 3,
   "metadata": {},
   "outputs": [],
   "source": [
    "def eps_greedy(epsilon,state,net,atoms):\n",
    "    if(np.random.random()<epsilon):\n",
    "        action = np.random.randint(ACT_SHAPE)\n",
    "    else:\n",
    "        #Finding the expected value of each action (sum(pi*zi))\n",
    "        qvalues = net(state)\n",
    "        expected_values = torch.matmul(qvalues,atoms)\n",
    "        action = torch.argmax(expected_values).item()\n",
    "    return action    "
   ]
  },
  {
   "cell_type": "code",
   "execution_count": 4,
   "metadata": {},
   "outputs": [],
   "source": [
    "class ReplayBuffer(object):\n",
    "    def __init__(self,maxsize):\n",
    "        self.q = deque(maxlen = maxsize)\n",
    "        self.maxsize = maxsize\n",
    "    def add(self,x):\n",
    "        self.q.append(x)\n",
    "        if(len(self.q)==self.maxsize):\n",
    "            self.q.popleft()\n",
    "    def getSize(self):\n",
    "        return len(self.q)\n",
    "    def sample(self,size):\n",
    "        batch = random.sample(list(self.q),size)\n",
    "        state,action,reward,next_state,done = map(list, zip(*batch))\n",
    "        return state,action,reward,next_state,done"
   ]
  },
  {
   "cell_type": "markdown",
   "metadata": {},
   "source": [
    "# Loss function"
   ]
  },
  {
   "cell_type": "code",
   "execution_count": 5,
   "metadata": {},
   "outputs": [],
   "source": [
    "def compute_loss(size,atoms):\n",
    "    current_state,action,reward,next_state,done = buffer.sample(size)\n",
    "    current_state = torch.stack(current_state)\n",
    "    current_state = current_state.squeeze(1)\n",
    "    next_state = torch.stack(next_state)\n",
    "    next_state = next_state.squeeze(1)\n",
    "    done = np.array(done)\n",
    "    done = done.astype(int)\n",
    "    reward = torch.Tensor(reward).cuda()\n",
    "    action = torch.as_tensor(action).cuda()\n",
    "    done = torch.Tensor(done).cuda()\n",
    "    \n",
    "    #qvalues -> (batch,actions,atoms)\n",
    "    # z(xt)\n",
    "    dist_current = net(current_state)\n",
    "    \n",
    "    # z(xt+1)\n",
    "    dist_next = net(next_state)\n",
    "    target_net.eval()\n",
    "    \n",
    "    # z'(xt+1)\n",
    "    dist_target = target_net(next_state)\n",
    "    \n",
    "    #Selecting optimal action a*\n",
    "    \n",
    "    zvalues_next = torch.matmul(dist_next,atoms)\n",
    "    optimal_action = zvalues_next.max(1)[1]\n",
    "    \n",
    "    #Distribution of target with optimal action z(xt+1,a*)\n",
    "    dist_target_optimal = dist_target.gather(1,optimal_action.view(-1,1).unsqueeze(2).repeat(1,1,N_ATOMS))\n",
    "    dist_target_optimal = dist_target_optimal.squeeze(1)\n",
    "    \n",
    "    #Finding target distribution values (Tzj = r + gamma*Z(x,a*)) (not aligned)\n",
    "    done = done.squeeze(0)\n",
    "    done = done.unsqueeze(1)\n",
    "    Tz = reward.unsqueeze(1).repeat(1,N_ATOMS) + (1-done).repeat(1,N_ATOMS)*GAMMA*atoms.unsqueeze(0).repeat(size,1)\n",
    "    \n",
    "    #Clipping the values\n",
    "    Tz = torch.clamp(Tz,min=VMIN,max=VMAX)\n",
    "    \n",
    "    #Aligning the values\n",
    "    \n",
    "    deltaz = (VMAX-VMIN)/(N_ATOMS-1)\n",
    "    indices = (Tz - VMIN)/deltaz\n",
    "    lower = indices.floor().long()\n",
    "    upper = indices.ceil().long()\n",
    "    #lower[(upper > 0) * (lower == upper)] -= 1\n",
    "    #upper[(lower < (N_ATOMS - 1)) * (lower == upper)] += 1\n",
    "    dm_l = (upper.float() + (lower == upper).float() - indices)*dist_target_optimal\n",
    "    dm_u = (indices - lower.float())*dist_target_optimal\n",
    "    \n",
    "    #Finding target probabilities\n",
    "    target_distribution = torch.zeros(size,N_ATOMS).cuda()\n",
    "    \n",
    "    for i in range(target_distribution.size(0)):\n",
    "        target_distribution[i].index_add_(0,lower[i].long(),dm_l[i])\n",
    "        target_distribution[i].index_add_(0,upper[i].long(),dm_u[i])\n",
    "    \n",
    "    \n",
    "#     offset = torch.linspace(0, ((size - 1) * N_ATOMS), size).unsqueeze(1).expand(size, N_ATOMS).to(action).cuda()\n",
    "    \n",
    "#     target_distribution = target_distribution.view(-1).index_add_(0, (lower + offset).view(-1), (dist_target_optimal * dm_u).view(-1))  # m_l = m_l + p(s_t+n, a*)(u - b)\n",
    "#     target_distribution = target_distribution.view(-1).index_add_(0, (upper + offset).view(-1), (dist_target_optimal* dm_l).view(-1))  # m_u = m_u + p(s_t+n, a*)(b - l) \n",
    "    \n",
    "    #p(xt,at)\n",
    "    current_distribution = dist_current.gather(1,action.view(-1,1).unsqueeze(2).repeat(1,1,N_ATOMS))\n",
    "    current_distribution = current_distribution.squeeze(1)\n",
    "    \n",
    "    \n",
    "    target_distribution = torch.reshape(target_distribution,(size,N_ATOMS))\n",
    "    L = -(target_distribution*torch.log(current_distribution)).sum(dim=1).mean()\n",
    "    \n",
    "#     print('Loss: ',L.item())\n",
    "    optimizer.zero_grad()\n",
    "    L.backward()\n",
    "    optimizer.step()\n",
    "    \n",
    "    return L"
   ]
  },
  {
   "cell_type": "code",
   "execution_count": 6,
   "metadata": {},
   "outputs": [],
   "source": [
    "def update_target():\n",
    "    target_net.load_state_dict(net.state_dict())"
   ]
  },
  {
   "cell_type": "code",
   "execution_count": 7,
   "metadata": {},
   "outputs": [],
   "source": [
    "def epsilon_decay(ep):\n",
    "    e = .1 + .99*np.exp(-ep/30000)\n",
    "    return e"
   ]
  },
  {
   "cell_type": "code",
   "execution_count": 8,
   "metadata": {},
   "outputs": [],
   "source": [
    "def addreward(id,item,filename):\n",
    "    f=open(filename,'a+')\n",
    "    f.write(str(id)+' '+str(item)+' '+'\\n')\n",
    "    f.close()"
   ]
  },
  {
   "cell_type": "code",
   "execution_count": 9,
   "metadata": {},
   "outputs": [],
   "source": [
    "def addloss(id,loss,filename):\n",
    "    f=open(filename,'a+')\n",
    "    f.write(str(id)+' '+str(loss.item())+' '+'\\n')\n",
    "    f.close()"
   ]
  },
  {
   "cell_type": "markdown",
   "metadata": {},
   "source": [
    "# Training"
   ]
  },
  {
   "cell_type": "code",
   "execution_count": 10,
   "metadata": {},
   "outputs": [
    {
     "name": "stdout",
     "output_type": "stream",
     "text": [
      "Box(4, 84, 84)\n",
      "Discrete(6)\n"
     ]
    }
   ],
   "source": [
    "# env = gym.make('PongNoFrameskip-v4')\n",
    "env    = make_atari('PongNoFrameskip-v4')\n",
    "# env    = make_atari('Pong-v0')\n",
    "env    = wrap_deepmind(env)\n",
    "env    = wrap_pytorch(env)\n",
    "\n",
    "print(env.observation_space)\n",
    "print(env.action_space)\n"
   ]
  },
  {
   "cell_type": "code",
   "execution_count": 11,
   "metadata": {},
   "outputs": [],
   "source": [
    "ITERATIONS = 1000000\n",
    "epsilon = .99\n",
    "OBS_SHAPE = env.observation_space.shape\n",
    "ACT_SHAPE = env.action_space.n\n",
    "REPLAY_SAMPLE = 20000\n",
    "BATCH_SIZE = 32\n",
    "GAMMA = .99\n",
    "T_upd = 10000\n",
    "N_ATOMS = 51\n",
    "VMAX = 10\n",
    "VMIN = -10\n",
    "atoms = torch.linspace(VMIN,VMAX,N_ATOMS).cuda()"
   ]
  },
  {
   "cell_type": "code",
   "execution_count": 12,
   "metadata": {},
   "outputs": [],
   "source": [
    "net = QNet(env.observation_space.shape,env.action_space.n,N_ATOMS)\n",
    "net = net.cuda()\n",
    "target_net = QNet(env.observation_space.shape,env.action_space.n,N_ATOMS)\n",
    "target_net = target_net.cuda()\n",
    "# update_target()\n",
    "optimizer = optim.Adam(net.parameters(), lr=0.00025,eps = .0003125)"
   ]
  },
  {
   "cell_type": "code",
   "execution_count": 13,
   "metadata": {},
   "outputs": [],
   "source": [
    "# net.load_state_dict(torch.load('dqn-model.pth'))\n",
    "# target_net.load_state_dict(torch.load('dqn-model-target.pth'))\n",
    "# optimizer = optim.Adam(net.parameters(), lr=0.00001)\n",
    "update_target()"
   ]
  },
  {
   "cell_type": "code",
   "execution_count": 14,
   "metadata": {
    "scrolled": true
   },
   "outputs": [
    {
     "name": "stderr",
     "output_type": "stream",
     "text": [
      "/home/ishaan16238/.conda/envs/ishaan/lib/python3.7/site-packages/ipykernel_launcher.py:12: TqdmDeprecationWarning: This function will be removed in tqdm==5.0.0\n",
      "Please use `tqdm.notebook.tqdm` instead of `tqdm.tqdm_notebook`\n",
      "  if sys.path[0] == '':\n"
     ]
    },
    {
     "data": {
      "application/vnd.jupyter.widget-view+json": {
       "model_id": "ddae423b9040401e98f42843c5b0a503",
       "version_major": 2,
       "version_minor": 0
      },
      "text/plain": [
       "HBox(children=(IntProgress(value=0, max=1000000), HTML(value='')))"
      ]
     },
     "metadata": {},
     "output_type": "display_data"
    },
    {
     "name": "stdout",
     "output_type": "stream",
     "text": [
      "1 -20.0\n",
      "2 -18.0\n",
      "3 -20.0\n",
      "4 -20.0\n",
      "5 -21.0\n",
      "6 -20.0\n",
      "7 -21.0\n",
      "8 -21.0\n",
      "9 -20.0\n",
      "10 -21.0\n",
      "11 -21.0\n",
      "12 -20.0\n",
      "13 -21.0\n",
      "14 -21.0\n",
      "15 -21.0\n",
      "16 -21.0\n",
      "17 -21.0\n",
      "18 -21.0\n",
      "19 -21.0\n",
      "20 -21.0\n",
      "21 -21.0\n",
      "22 -21.0\n",
      "23 -21.0\n",
      "24 -21.0\n",
      "25 -21.0\n",
      "26 -20.0\n",
      "27 -21.0\n",
      "28 -20.0\n",
      "29 -20.0\n",
      "30 -19.0\n",
      "31 -21.0\n",
      "32 -19.0\n",
      "33 -21.0\n",
      "34 -21.0\n",
      "35 -21.0\n",
      "36 -21.0\n",
      "37 -20.0\n",
      "38 -21.0\n",
      "39 -21.0\n",
      "40 -20.0\n",
      "41 -20.0\n",
      "42 -21.0\n",
      "43 -21.0\n",
      "44 -20.0\n",
      "45 -21.0\n",
      "46 -21.0\n",
      "47 -21.0\n",
      "48 -21.0\n",
      "49 -21.0\n",
      "50 -20.0\n",
      "51 -20.0\n",
      "52 -20.0\n",
      "53 -20.0\n",
      "54 -19.0\n",
      "55 -20.0\n",
      "56 -20.0\n",
      "57 -20.0\n",
      "58 -21.0\n",
      "59 -20.0\n",
      "60 -19.0\n",
      "61 -21.0\n",
      "62 -21.0\n",
      "63 -21.0\n",
      "64 -20.0\n",
      "65 -20.0\n",
      "66 -19.0\n",
      "67 -20.0\n",
      "68 -21.0\n",
      "69 -20.0\n",
      "70 -20.0\n",
      "71 -21.0\n",
      "72 -21.0\n",
      "73 -21.0\n",
      "74 -20.0\n",
      "75 -21.0\n",
      "76 -21.0\n",
      "77 -20.0\n",
      "78 -20.0\n",
      "79 -20.0\n",
      "80 -21.0\n",
      "81 -21.0\n",
      "82 -21.0\n",
      "83 -21.0\n",
      "84 -21.0\n",
      "85 -20.0\n",
      "86 -20.0\n",
      "87 -21.0\n",
      "88 -21.0\n",
      "89 -21.0\n",
      "90 -20.0\n",
      "91 -21.0\n",
      "92 -20.0\n",
      "93 -21.0\n",
      "94 -21.0\n",
      "95 -20.0\n",
      "96 -21.0\n",
      "97 -21.0\n",
      "98 -21.0\n",
      "99 -20.0\n",
      "100 -20.0\n",
      "101 -21.0\n",
      "102 -21.0\n",
      "103 -21.0\n",
      "104 -21.0\n",
      "105 -21.0\n",
      "106 -21.0\n",
      "107 -20.0\n",
      "108 -21.0\n",
      "109 -21.0\n",
      "110 -20.0\n",
      "111 -20.0\n",
      "112 -21.0\n",
      "113 -19.0\n",
      "114 -20.0\n",
      "115 -20.0\n",
      "116 -20.0\n",
      "117 -21.0\n",
      "118 -20.0\n",
      "119 -21.0\n",
      "120 -20.0\n",
      "121 -21.0\n",
      "122 -21.0\n",
      "123 -20.0\n",
      "124 -21.0\n",
      "125 -21.0\n",
      "126 -21.0\n",
      "127 -21.0\n",
      "128 -21.0\n",
      "129 -21.0\n",
      "130 -21.0\n",
      "131 -21.0\n",
      "132 -21.0\n",
      "133 -21.0\n",
      "134 -21.0\n",
      "135 -21.0\n",
      "136 -21.0\n",
      "137 -21.0\n",
      "138 -21.0\n",
      "139 -21.0\n",
      "140 -21.0\n",
      "141 -21.0\n",
      "142 -21.0\n",
      "143 -21.0\n",
      "144 -21.0\n",
      "145 -19.0\n",
      "146 -21.0\n",
      "147 -21.0\n",
      "148 -21.0\n",
      "149 -21.0\n",
      "150 -21.0\n",
      "151 -21.0\n",
      "152 -21.0\n",
      "153 -21.0\n",
      "154 -21.0\n",
      "155 -21.0\n",
      "156 -21.0\n",
      "157 -21.0\n",
      "158 -21.0\n",
      "159 -20.0\n",
      "160 -21.0\n",
      "161 -21.0\n",
      "162 -20.0\n",
      "163 -21.0\n",
      "164 -21.0\n",
      "165 -21.0\n",
      "166 -21.0\n",
      "167 -21.0\n",
      "168 -20.0\n",
      "169 -21.0\n",
      "170 -21.0\n",
      "171 -21.0\n",
      "172 -21.0\n",
      "173 -21.0\n",
      "174 -21.0\n",
      "175 -21.0\n",
      "176 -21.0\n",
      "177 -21.0\n",
      "178 -21.0\n",
      "179 -21.0\n",
      "180 -20.0\n",
      "181 -20.0\n",
      "182 -21.0\n",
      "183 -21.0\n",
      "184 -21.0\n",
      "185 -21.0\n",
      "186 -21.0\n",
      "187 -21.0\n"
     ]
    },
    {
     "ename": "KeyboardInterrupt",
     "evalue": "",
     "output_type": "error",
     "traceback": [
      "\u001b[0;31m---------------------------------------------------------------------------\u001b[0m",
      "\u001b[0;31mKeyboardInterrupt\u001b[0m                         Traceback (most recent call last)",
      "\u001b[0;32m<ipython-input-14-9391f678ba8e>\u001b[0m in \u001b[0;36m<module>\u001b[0;34m\u001b[0m\n\u001b[1;32m     20\u001b[0m     \u001b[0mstate\u001b[0m\u001b[0;34m=\u001b[0m\u001b[0mnext_state\u001b[0m\u001b[0;34m\u001b[0m\u001b[0;34m\u001b[0m\u001b[0m\n\u001b[1;32m     21\u001b[0m     \u001b[0;32mif\u001b[0m\u001b[0;34m(\u001b[0m\u001b[0mbuffer\u001b[0m\u001b[0;34m.\u001b[0m\u001b[0mgetSize\u001b[0m\u001b[0;34m(\u001b[0m\u001b[0;34m)\u001b[0m\u001b[0;34m>\u001b[0m\u001b[0mREPLAY_SAMPLE\u001b[0m \u001b[0;32mand\u001b[0m \u001b[0mi\u001b[0m\u001b[0;34m%\u001b[0m\u001b[0;36m4\u001b[0m\u001b[0;34m)\u001b[0m\u001b[0;34m:\u001b[0m\u001b[0;34m\u001b[0m\u001b[0;34m\u001b[0m\u001b[0m\n\u001b[0;32m---> 22\u001b[0;31m         \u001b[0mloss\u001b[0m \u001b[0;34m=\u001b[0m \u001b[0mcompute_loss\u001b[0m\u001b[0;34m(\u001b[0m\u001b[0mBATCH_SIZE\u001b[0m\u001b[0;34m,\u001b[0m\u001b[0matoms\u001b[0m\u001b[0;34m)\u001b[0m\u001b[0;34m\u001b[0m\u001b[0;34m\u001b[0m\u001b[0m\n\u001b[0m\u001b[1;32m     23\u001b[0m         \u001b[0mlosses\u001b[0m\u001b[0;34m.\u001b[0m\u001b[0mappend\u001b[0m\u001b[0;34m(\u001b[0m\u001b[0mloss\u001b[0m\u001b[0;34m)\u001b[0m\u001b[0;34m\u001b[0m\u001b[0;34m\u001b[0m\u001b[0m\n\u001b[1;32m     24\u001b[0m \u001b[0;31m#         if(i%500==0):\u001b[0m\u001b[0;34m\u001b[0m\u001b[0;34m\u001b[0m\u001b[0;34m\u001b[0m\u001b[0m\n",
      "\u001b[0;32m<ipython-input-5-8821de6541d6>\u001b[0m in \u001b[0;36mcompute_loss\u001b[0;34m(size, atoms)\u001b[0m\n\u001b[1;32m      1\u001b[0m \u001b[0;32mdef\u001b[0m \u001b[0mcompute_loss\u001b[0m\u001b[0;34m(\u001b[0m\u001b[0msize\u001b[0m\u001b[0;34m,\u001b[0m\u001b[0matoms\u001b[0m\u001b[0;34m)\u001b[0m\u001b[0;34m:\u001b[0m\u001b[0;34m\u001b[0m\u001b[0;34m\u001b[0m\u001b[0m\n\u001b[0;32m----> 2\u001b[0;31m     \u001b[0mcurrent_state\u001b[0m\u001b[0;34m,\u001b[0m\u001b[0maction\u001b[0m\u001b[0;34m,\u001b[0m\u001b[0mreward\u001b[0m\u001b[0;34m,\u001b[0m\u001b[0mnext_state\u001b[0m\u001b[0;34m,\u001b[0m\u001b[0mdone\u001b[0m \u001b[0;34m=\u001b[0m \u001b[0mbuffer\u001b[0m\u001b[0;34m.\u001b[0m\u001b[0msample\u001b[0m\u001b[0;34m(\u001b[0m\u001b[0msize\u001b[0m\u001b[0;34m)\u001b[0m\u001b[0;34m\u001b[0m\u001b[0;34m\u001b[0m\u001b[0m\n\u001b[0m\u001b[1;32m      3\u001b[0m     \u001b[0mcurrent_state\u001b[0m \u001b[0;34m=\u001b[0m \u001b[0mtorch\u001b[0m\u001b[0;34m.\u001b[0m\u001b[0mstack\u001b[0m\u001b[0;34m(\u001b[0m\u001b[0mcurrent_state\u001b[0m\u001b[0;34m)\u001b[0m\u001b[0;34m\u001b[0m\u001b[0;34m\u001b[0m\u001b[0m\n\u001b[1;32m      4\u001b[0m     \u001b[0mcurrent_state\u001b[0m \u001b[0;34m=\u001b[0m \u001b[0mcurrent_state\u001b[0m\u001b[0;34m.\u001b[0m\u001b[0msqueeze\u001b[0m\u001b[0;34m(\u001b[0m\u001b[0;36m1\u001b[0m\u001b[0;34m)\u001b[0m\u001b[0;34m\u001b[0m\u001b[0;34m\u001b[0m\u001b[0m\n\u001b[1;32m      5\u001b[0m     \u001b[0mnext_state\u001b[0m \u001b[0;34m=\u001b[0m \u001b[0mtorch\u001b[0m\u001b[0;34m.\u001b[0m\u001b[0mstack\u001b[0m\u001b[0;34m(\u001b[0m\u001b[0mnext_state\u001b[0m\u001b[0;34m)\u001b[0m\u001b[0;34m\u001b[0m\u001b[0;34m\u001b[0m\u001b[0m\n",
      "\u001b[0;32m<ipython-input-4-ac1157e6fb88>\u001b[0m in \u001b[0;36msample\u001b[0;34m(self, size)\u001b[0m\n\u001b[1;32m     10\u001b[0m         \u001b[0;32mreturn\u001b[0m \u001b[0mlen\u001b[0m\u001b[0;34m(\u001b[0m\u001b[0mself\u001b[0m\u001b[0;34m.\u001b[0m\u001b[0mq\u001b[0m\u001b[0;34m)\u001b[0m\u001b[0;34m\u001b[0m\u001b[0;34m\u001b[0m\u001b[0m\n\u001b[1;32m     11\u001b[0m     \u001b[0;32mdef\u001b[0m \u001b[0msample\u001b[0m\u001b[0;34m(\u001b[0m\u001b[0mself\u001b[0m\u001b[0;34m,\u001b[0m\u001b[0msize\u001b[0m\u001b[0;34m)\u001b[0m\u001b[0;34m:\u001b[0m\u001b[0;34m\u001b[0m\u001b[0;34m\u001b[0m\u001b[0m\n\u001b[0;32m---> 12\u001b[0;31m         \u001b[0mbatch\u001b[0m \u001b[0;34m=\u001b[0m \u001b[0mrandom\u001b[0m\u001b[0;34m.\u001b[0m\u001b[0msample\u001b[0m\u001b[0;34m(\u001b[0m\u001b[0mlist\u001b[0m\u001b[0;34m(\u001b[0m\u001b[0mself\u001b[0m\u001b[0;34m.\u001b[0m\u001b[0mq\u001b[0m\u001b[0;34m)\u001b[0m\u001b[0;34m,\u001b[0m\u001b[0msize\u001b[0m\u001b[0;34m)\u001b[0m\u001b[0;34m\u001b[0m\u001b[0;34m\u001b[0m\u001b[0m\n\u001b[0m\u001b[1;32m     13\u001b[0m         \u001b[0mstate\u001b[0m\u001b[0;34m,\u001b[0m\u001b[0maction\u001b[0m\u001b[0;34m,\u001b[0m\u001b[0mreward\u001b[0m\u001b[0;34m,\u001b[0m\u001b[0mnext_state\u001b[0m\u001b[0;34m,\u001b[0m\u001b[0mdone\u001b[0m \u001b[0;34m=\u001b[0m \u001b[0mmap\u001b[0m\u001b[0;34m(\u001b[0m\u001b[0mlist\u001b[0m\u001b[0;34m,\u001b[0m \u001b[0mzip\u001b[0m\u001b[0;34m(\u001b[0m\u001b[0;34m*\u001b[0m\u001b[0mbatch\u001b[0m\u001b[0;34m)\u001b[0m\u001b[0;34m)\u001b[0m\u001b[0;34m\u001b[0m\u001b[0;34m\u001b[0m\u001b[0m\n\u001b[1;32m     14\u001b[0m         \u001b[0;32mreturn\u001b[0m \u001b[0mstate\u001b[0m\u001b[0;34m,\u001b[0m\u001b[0maction\u001b[0m\u001b[0;34m,\u001b[0m\u001b[0mreward\u001b[0m\u001b[0;34m,\u001b[0m\u001b[0mnext_state\u001b[0m\u001b[0;34m,\u001b[0m\u001b[0mdone\u001b[0m\u001b[0;34m\u001b[0m\u001b[0;34m\u001b[0m\u001b[0m\n",
      "\u001b[0;31mKeyboardInterrupt\u001b[0m: "
     ]
    }
   ],
   "source": [
    "buffer = ReplayBuffer(100000)\n",
    "\n",
    "episode_reward = 0\n",
    "state = env.reset()\n",
    "state = torch.Tensor(state).cuda()\n",
    "state = state.unsqueeze(0)\n",
    "count = 0\n",
    "lossfile = './dueling-logs/losses.txt'\n",
    "rewardsfile = './dueling-logs/rewards.txt'\n",
    "losses = []\n",
    "rewards = [] \n",
    "for i in tqdm(range(ITERATIONS)):\n",
    "    epsilon = epsilon_decay(i)\n",
    "    action = eps_greedy(epsilon,state,net,atoms)\n",
    "    next_state, reward, done, info = env.step(action)\n",
    "    \n",
    "    next_state = torch.Tensor(next_state).cuda().unsqueeze(0)\n",
    "    buffer.add((state,action,reward,next_state,done))\n",
    "    episode_reward+=reward\n",
    "    state=next_state\n",
    "    if(buffer.getSize()>REPLAY_SAMPLE and i%4):\n",
    "        loss = compute_loss(BATCH_SIZE,atoms)\n",
    "        losses.append(loss)\n",
    "#         if(i%500==0):\n",
    "#             print(loss)\n",
    "#             addloss(i,loss,lossfile)\n",
    "    if done:\n",
    "        count+=1\n",
    "        rewards.append(episode_reward)\n",
    "        print(count,episode_reward)\n",
    "        \n",
    "        #if(count%5==0):\n",
    "#             addreward(count,episode_reward,rewardsfile)\n",
    "            #print('ep',count,episode_reward)\n",
    "        episode_reward = 0 \n",
    "        state = env.reset()\n",
    "        state = torch.Tensor(state).cuda()\n",
    "        state = state.unsqueeze(0)\n",
    "    if(i%T_upd==0):\n",
    "#         torch.save(net.state_dict(),'./dueling-logs/dqn-model.pth')\n",
    "#         torch.save(target_net.state_dict(),'./dueling-logs/dqn-model-target.pth')\n",
    "        update_target()\n"
   ]
  },
  {
   "cell_type": "code",
   "execution_count": 16,
   "metadata": {},
   "outputs": [
    {
     "data": {
      "text/plain": [
       "[<matplotlib.lines.Line2D at 0x7ff3e468e810>]"
      ]
     },
     "execution_count": 16,
     "metadata": {},
     "output_type": "execute_result"
    },
    {
     "data": {
      "image/png": "[encoded data removed]",
      "text/plain": [
       "<Figure size 432x288 with 1 Axes>"
      ]
     },
     "metadata": {
      "needs_background": "light"
     },
     "output_type": "display_data"
    }
   ],
   "source": [
    "plt.plot(losses)"
   ]
  },
  {
   "cell_type": "code",
   "execution_count": 17,
   "metadata": {},
   "outputs": [
    {
     "data": {
      "text/plain": [
       "[<matplotlib.lines.Line2D at 0x7ff3e44eb7d0>]"
      ]
     },
     "execution_count": 17,
     "metadata": {},
     "output_type": "execute_result"
    },
    {
     "data": {
      "image/png": "[encoded data removed]",
      "text/plain": [
       "<Figure size 432x288 with 1 Axes>"
      ]
     },
     "metadata": {
      "needs_background": "light"
     },
     "output_type": "display_data"
    }
   ],
   "source": [
    "plt.plot(rewards)"
   ]
  },
  {
   "cell_type": "code",
   "execution_count": null,
   "metadata": {},
   "outputs": [],
   "source": []
  }
 ],
 "metadata": {
  "kernelspec": {
   "display_name": "Python 3",
   "language": "python",
   "name": "python3"
  },
  "language_info": {
   "codemirror_mode": {
    "name": "ipython",
    "version": 3
   },
   "file_extension": ".py",
   "mimetype": "text/x-python",
   "name": "python",
   "nbconvert_exporter": "python",
   "pygments_lexer": "ipython3",
   "version": "3.7.5"
  }
 },
 "nbformat": 4,
 "nbformat_minor": 2
}
